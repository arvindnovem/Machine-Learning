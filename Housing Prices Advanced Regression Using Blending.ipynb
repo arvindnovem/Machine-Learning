{
 "cells": [
  {
   "cell_type": "code",
   "execution_count": 81,
   "metadata": {},
   "outputs": [],
   "source": [
    "import numpy as np\n",
    "import pandas as pd\n",
    "import matplotlib.pyplot as plt\n",
    "import seaborn as sns\n",
    "%matplotlib inline"
   ]
  },
  {
   "cell_type": "code",
   "execution_count": 82,
   "metadata": {},
   "outputs": [],
   "source": [
    "housing=pd.read_csv(\"C:\\\\Arvind Files\\\\ML PROJECT FILES\\\\house-prices-advanced-regression-techniques\\\\train.csv\",engine='python')"
   ]
  },
  {
   "cell_type": "code",
   "execution_count": 83,
   "metadata": {},
   "outputs": [
    {
     "data": {
      "text/html": [
       "<div>\n",
       "<style scoped>\n",
       "    .dataframe tbody tr th:only-of-type {\n",
       "        vertical-align: middle;\n",
       "    }\n",
       "\n",
       "    .dataframe tbody tr th {\n",
       "        vertical-align: top;\n",
       "    }\n",
       "\n",
       "    .dataframe thead th {\n",
       "        text-align: right;\n",
       "    }\n",
       "</style>\n",
       "<table border=\"1\" class=\"dataframe\">\n",
       "  <thead>\n",
       "    <tr style=\"text-align: right;\">\n",
       "      <th></th>\n",
       "      <th>Id</th>\n",
       "      <th>MSSubClass</th>\n",
       "      <th>MSZoning</th>\n",
       "      <th>LotFrontage</th>\n",
       "      <th>LotArea</th>\n",
       "      <th>Street</th>\n",
       "      <th>Alley</th>\n",
       "      <th>LotShape</th>\n",
       "      <th>LandContour</th>\n",
       "      <th>Utilities</th>\n",
       "      <th>...</th>\n",
       "      <th>PoolArea</th>\n",
       "      <th>PoolQC</th>\n",
       "      <th>Fence</th>\n",
       "      <th>MiscFeature</th>\n",
       "      <th>MiscVal</th>\n",
       "      <th>MoSold</th>\n",
       "      <th>YrSold</th>\n",
       "      <th>SaleType</th>\n",
       "      <th>SaleCondition</th>\n",
       "      <th>SalePrice</th>\n",
       "    </tr>\n",
       "  </thead>\n",
       "  <tbody>\n",
       "    <tr>\n",
       "      <th>0</th>\n",
       "      <td>1</td>\n",
       "      <td>60</td>\n",
       "      <td>RL</td>\n",
       "      <td>65.0</td>\n",
       "      <td>8450</td>\n",
       "      <td>Pave</td>\n",
       "      <td>NaN</td>\n",
       "      <td>Reg</td>\n",
       "      <td>Lvl</td>\n",
       "      <td>AllPub</td>\n",
       "      <td>...</td>\n",
       "      <td>0</td>\n",
       "      <td>NaN</td>\n",
       "      <td>NaN</td>\n",
       "      <td>NaN</td>\n",
       "      <td>0</td>\n",
       "      <td>2</td>\n",
       "      <td>2008</td>\n",
       "      <td>WD</td>\n",
       "      <td>Normal</td>\n",
       "      <td>208500</td>\n",
       "    </tr>\n",
       "    <tr>\n",
       "      <th>1</th>\n",
       "      <td>2</td>\n",
       "      <td>20</td>\n",
       "      <td>RL</td>\n",
       "      <td>80.0</td>\n",
       "      <td>9600</td>\n",
       "      <td>Pave</td>\n",
       "      <td>NaN</td>\n",
       "      <td>Reg</td>\n",
       "      <td>Lvl</td>\n",
       "      <td>AllPub</td>\n",
       "      <td>...</td>\n",
       "      <td>0</td>\n",
       "      <td>NaN</td>\n",
       "      <td>NaN</td>\n",
       "      <td>NaN</td>\n",
       "      <td>0</td>\n",
       "      <td>5</td>\n",
       "      <td>2007</td>\n",
       "      <td>WD</td>\n",
       "      <td>Normal</td>\n",
       "      <td>181500</td>\n",
       "    </tr>\n",
       "    <tr>\n",
       "      <th>2</th>\n",
       "      <td>3</td>\n",
       "      <td>60</td>\n",
       "      <td>RL</td>\n",
       "      <td>68.0</td>\n",
       "      <td>11250</td>\n",
       "      <td>Pave</td>\n",
       "      <td>NaN</td>\n",
       "      <td>IR1</td>\n",
       "      <td>Lvl</td>\n",
       "      <td>AllPub</td>\n",
       "      <td>...</td>\n",
       "      <td>0</td>\n",
       "      <td>NaN</td>\n",
       "      <td>NaN</td>\n",
       "      <td>NaN</td>\n",
       "      <td>0</td>\n",
       "      <td>9</td>\n",
       "      <td>2008</td>\n",
       "      <td>WD</td>\n",
       "      <td>Normal</td>\n",
       "      <td>223500</td>\n",
       "    </tr>\n",
       "    <tr>\n",
       "      <th>3</th>\n",
       "      <td>4</td>\n",
       "      <td>70</td>\n",
       "      <td>RL</td>\n",
       "      <td>60.0</td>\n",
       "      <td>9550</td>\n",
       "      <td>Pave</td>\n",
       "      <td>NaN</td>\n",
       "      <td>IR1</td>\n",
       "      <td>Lvl</td>\n",
       "      <td>AllPub</td>\n",
       "      <td>...</td>\n",
       "      <td>0</td>\n",
       "      <td>NaN</td>\n",
       "      <td>NaN</td>\n",
       "      <td>NaN</td>\n",
       "      <td>0</td>\n",
       "      <td>2</td>\n",
       "      <td>2006</td>\n",
       "      <td>WD</td>\n",
       "      <td>Abnorml</td>\n",
       "      <td>140000</td>\n",
       "    </tr>\n",
       "    <tr>\n",
       "      <th>4</th>\n",
       "      <td>5</td>\n",
       "      <td>60</td>\n",
       "      <td>RL</td>\n",
       "      <td>84.0</td>\n",
       "      <td>14260</td>\n",
       "      <td>Pave</td>\n",
       "      <td>NaN</td>\n",
       "      <td>IR1</td>\n",
       "      <td>Lvl</td>\n",
       "      <td>AllPub</td>\n",
       "      <td>...</td>\n",
       "      <td>0</td>\n",
       "      <td>NaN</td>\n",
       "      <td>NaN</td>\n",
       "      <td>NaN</td>\n",
       "      <td>0</td>\n",
       "      <td>12</td>\n",
       "      <td>2008</td>\n",
       "      <td>WD</td>\n",
       "      <td>Normal</td>\n",
       "      <td>250000</td>\n",
       "    </tr>\n",
       "  </tbody>\n",
       "</table>\n",
       "<p>5 rows × 81 columns</p>\n",
       "</div>"
      ],
      "text/plain": [
       "   Id  MSSubClass MSZoning  LotFrontage  LotArea Street Alley LotShape  \\\n",
       "0   1          60       RL         65.0     8450   Pave   NaN      Reg   \n",
       "1   2          20       RL         80.0     9600   Pave   NaN      Reg   \n",
       "2   3          60       RL         68.0    11250   Pave   NaN      IR1   \n",
       "3   4          70       RL         60.0     9550   Pave   NaN      IR1   \n",
       "4   5          60       RL         84.0    14260   Pave   NaN      IR1   \n",
       "\n",
       "  LandContour Utilities    ...     PoolArea PoolQC Fence MiscFeature MiscVal  \\\n",
       "0         Lvl    AllPub    ...            0    NaN   NaN         NaN       0   \n",
       "1         Lvl    AllPub    ...            0    NaN   NaN         NaN       0   \n",
       "2         Lvl    AllPub    ...            0    NaN   NaN         NaN       0   \n",
       "3         Lvl    AllPub    ...            0    NaN   NaN         NaN       0   \n",
       "4         Lvl    AllPub    ...            0    NaN   NaN         NaN       0   \n",
       "\n",
       "  MoSold YrSold  SaleType  SaleCondition  SalePrice  \n",
       "0      2   2008        WD         Normal     208500  \n",
       "1      5   2007        WD         Normal     181500  \n",
       "2      9   2008        WD         Normal     223500  \n",
       "3      2   2006        WD        Abnorml     140000  \n",
       "4     12   2008        WD         Normal     250000  \n",
       "\n",
       "[5 rows x 81 columns]"
      ]
     },
     "execution_count": 83,
     "metadata": {},
     "output_type": "execute_result"
    }
   ],
   "source": [
    "housing.head()"
   ]
  },
  {
   "cell_type": "code",
   "execution_count": 84,
   "metadata": {},
   "outputs": [
    {
     "data": {
      "text/plain": [
       "<matplotlib.axes._subplots.AxesSubplot at 0x239d6ea6be0>"
      ]
     },
     "execution_count": 84,
     "metadata": {},
     "output_type": "execute_result"
    },
    {
     "data": {
      "image/png": "[encoded data removed]",
      "text/plain": [
       "<Figure size 432x288 with 2 Axes>"
      ]
     },
     "metadata": {},
     "output_type": "display_data"
    }
   ],
   "source": [
    "sns.heatmap(housing.isnull(),cmap='viridis',yticklabels='auto')"
   ]
  },
  {
   "cell_type": "code",
   "execution_count": 85,
   "metadata": {},
   "outputs": [
    {
     "name": "stdout",
     "output_type": "stream",
     "text": [
      "Id               False\n",
      "MSSubClass       False\n",
      "LotFrontage      False\n",
      "LotArea          False\n",
      "OverallQual       True\n",
      "OverallCond      False\n",
      "YearBuilt         True\n",
      "YearRemodAdd      True\n",
      "MasVnrArea       False\n",
      "BsmtFinSF1       False\n",
      "BsmtFinSF2       False\n",
      "BsmtUnfSF        False\n",
      "TotalBsmtSF       True\n",
      "1stFlrSF          True\n",
      "2ndFlrSF         False\n",
      "LowQualFinSF     False\n",
      "GrLivArea         True\n",
      "BsmtFullBath     False\n",
      "BsmtHalfBath     False\n",
      "FullBath          True\n",
      "HalfBath         False\n",
      "BedroomAbvGr     False\n",
      "KitchenAbvGr     False\n",
      "TotRmsAbvGrd      True\n",
      "Fireplaces       False\n",
      "GarageYrBlt      False\n",
      "GarageCars        True\n",
      "GarageArea        True\n",
      "WoodDeckSF       False\n",
      "OpenPorchSF      False\n",
      "EnclosedPorch    False\n",
      "3SsnPorch        False\n",
      "ScreenPorch      False\n",
      "PoolArea         False\n",
      "MiscVal          False\n",
      "MoSold           False\n",
      "YrSold           False\n",
      "SalePrice         True\n",
      "Name: SalePrice, dtype: bool\n"
     ]
    }
   ],
   "source": [
    "housing_corr=housing.corr()\n",
    "print(housing_corr['SalePrice']>0.5)"
   ]
  },
  {
   "cell_type": "code",
   "execution_count": 86,
   "metadata": {},
   "outputs": [],
   "source": [
    "X=housing[['OverallQual','YearBuilt','YearRemodAdd','TotalBsmtSF','1stFlrSF','GrLivArea','FullBath','TotRmsAbvGrd','GarageCars','GarageArea']]\n",
    "y=housing['SalePrice']"
   ]
  },
  {
   "cell_type": "code",
   "execution_count": 87,
   "metadata": {},
   "outputs": [
    {
     "data": {
      "text/plain": [
       "<matplotlib.axes._subplots.AxesSubplot at 0x239d864da20>"
      ]
     },
     "execution_count": 87,
     "metadata": {},
     "output_type": "execute_result"
    },
    {
     "data": {
      "image/png": "[encoded data removed]",
      "text/plain": [
       "<Figure size 432x288 with 2 Axes>"
      ]
     },
     "metadata": {},
     "output_type": "display_data"
    }
   ],
   "source": [
    "sns.heatmap(X.isnull(),cmap='viridis',yticklabels=False)"
   ]
  },
  {
   "cell_type": "code",
   "execution_count": 88,
   "metadata": {},
   "outputs": [],
   "source": [
    "from sklearn.model_selection import train_test_split"
   ]
  },
  {
   "cell_type": "code",
   "execution_count": 89,
   "metadata": {},
   "outputs": [],
   "source": [
    "X_train, X_val, y_train, y_val= train_test_split(X, y, test_size=0.33, random_state=42)"
   ]
  },
  {
   "cell_type": "code",
   "execution_count": 90,
   "metadata": {},
   "outputs": [],
   "source": [
    "from sklearn.neighbors import KNeighborsRegressor\n",
    "from sklearn.ensemble import GradientBoostingRegressor\n",
    "import xgboost as xgb"
   ]
  },
  {
   "cell_type": "code",
   "execution_count": 91,
   "metadata": {},
   "outputs": [],
   "source": [
    "test_data=pd.read_csv('C:\\\\Arvind Files\\\\ML PROJECT FILES\\\\house-prices-advanced-regression-techniques\\\\test.csv',engine='python')"
   ]
  },
  {
   "cell_type": "code",
   "execution_count": 92,
   "metadata": {},
   "outputs": [],
   "source": [
    "X_test=test_data[['OverallQual','YearBuilt','YearRemodAdd','TotalBsmtSF','1stFlrSF','GrLivArea','FullBath','TotRmsAbvGrd','GarageCars','GarageArea']]"
   ]
  },
  {
   "cell_type": "code",
   "execution_count": 93,
   "metadata": {},
   "outputs": [
    {
     "data": {
      "text/plain": [
       "<matplotlib.axes._subplots.AxesSubplot at 0x239d87a5b70>"
      ]
     },
     "execution_count": 93,
     "metadata": {},
     "output_type": "execute_result"
    },
    {
     "data": {
      "image/png": "[encoded data removed]",
      "text/plain": [
       "<Figure size 432x288 with 2 Axes>"
      ]
     },
     "metadata": {},
     "output_type": "display_data"
    }
   ],
   "source": [
    "sns.heatmap(X_test.isnull(),cmap='viridis',yticklabels=False)"
   ]
  },
  {
   "cell_type": "code",
   "execution_count": 94,
   "metadata": {},
   "outputs": [
    {
     "name": "stderr",
     "output_type": "stream",
     "text": [
      "C:\\Users\\arvind\\Anaconda3\\lib\\site-packages\\pandas\\core\\generic.py:5430: SettingWithCopyWarning: \n",
      "A value is trying to be set on a copy of a slice from a DataFrame\n",
      "\n",
      "See the caveats in the documentation: http://pandas.pydata.org/pandas-docs/stable/indexing.html#indexing-view-versus-copy\n",
      "  self._update_inplace(new_data)\n"
     ]
    },
    {
     "name": "stdout",
     "output_type": "stream",
     "text": [
      "            0\n",
      "0    136605.0\n",
      "1    299533.6\n",
      "2    123680.0\n",
      "3    137600.0\n",
      "4    254438.6\n",
      "5     74180.0\n",
      "6    192600.0\n",
      "7    162440.0\n",
      "8     74180.0\n",
      "9    114500.0\n",
      "10   146176.8\n",
      "11   116900.0\n",
      "12   134480.0\n",
      "13   231000.0\n",
      "14   182700.0\n",
      "15   126700.0\n",
      "16   196200.0\n",
      "17   133425.0\n",
      "18   124540.0\n",
      "19   205000.0\n",
      "20   191380.0\n",
      "21   191580.0\n",
      "22   163480.0\n",
      "23   122600.0\n",
      "24   232956.0\n",
      "25   168300.0\n",
      "26   182549.6\n",
      "27   116880.0\n",
      "28   177800.0\n",
      "29   198543.0\n",
      "..        ...\n",
      "452  297320.0\n",
      "453  153180.0\n",
      "454  124440.0\n",
      "455  191340.0\n",
      "456  296442.6\n",
      "457  294341.8\n",
      "458  221460.0\n",
      "459  168930.0\n",
      "460  128440.0\n",
      "461   83580.0\n",
      "462  230180.0\n",
      "463  205440.0\n",
      "464  159616.0\n",
      "465  410550.0\n",
      "466  190680.0\n",
      "467  207198.0\n",
      "468  154479.0\n",
      "469  309500.0\n",
      "470   94300.0\n",
      "471   97640.0\n",
      "472  120000.0\n",
      "473  109400.0\n",
      "474  187280.0\n",
      "475  249039.6\n",
      "476  150960.0\n",
      "477  115720.0\n",
      "478  114200.0\n",
      "479  197500.0\n",
      "480  126000.0\n",
      "481  224194.0\n",
      "\n",
      "[482 rows x 1 columns]\n"
     ]
    }
   ],
   "source": [
    "model1=KNeighborsRegressor(n_neighbors=5, weights='uniform', algorithm='auto', leaf_size=10, p=2, metric='minkowski', metric_params=None, n_jobs=1)\n",
    "model1.fit(X_train,y_train)\n",
    "val_pred1=model1.predict(X_val)\n",
    "X_test.fillna(value=X_test.mean(),inplace=True)\n",
    "test_pred1=model1.predict(X_test)\n",
    "val_pred1=pd.DataFrame(val_pred1)\n",
    "test_pred1=pd.DataFrame(test_pred1)\n",
    "print(val_pred1)"
   ]
  },
  {
   "cell_type": "code",
   "execution_count": 95,
   "metadata": {},
   "outputs": [
    {
     "name": "stderr",
     "output_type": "stream",
     "text": [
      "C:\\Users\\arvind\\Anaconda3\\lib\\site-packages\\pandas\\core\\generic.py:5430: SettingWithCopyWarning: \n",
      "A value is trying to be set on a copy of a slice from a DataFrame\n",
      "\n",
      "See the caveats in the documentation: http://pandas.pydata.org/pandas-docs/stable/indexing.html#indexing-view-versus-copy\n",
      "  self._update_inplace(new_data)\n"
     ]
    },
    {
     "name": "stdout",
     "output_type": "stream",
     "text": [
      "                 0\n",
      "0    136595.801629\n",
      "1    348163.877284\n",
      "2    118261.111153\n",
      "3    162887.622895\n",
      "4    318972.314291\n",
      "5     75835.031796\n",
      "6    212418.580924\n",
      "7    162278.936085\n",
      "8     75835.031796\n",
      "9    123313.300317\n",
      "10   158325.913283\n",
      "11   120309.069060\n",
      "12   102897.846121\n",
      "13   217662.553832\n",
      "14   182798.938415\n",
      "15   132895.070683\n",
      "16   196766.465348\n",
      "17   137891.750900\n",
      "18   119742.642362\n",
      "19   207341.518385\n",
      "20   199270.221826\n",
      "21   241712.232441\n",
      "22   175482.455589\n",
      "23   129666.235014\n",
      "24   205284.630194\n",
      "25   170573.797866\n",
      "26   189733.743686\n",
      "27   100052.336600\n",
      "28   183163.081396\n",
      "29   193284.421914\n",
      "..             ...\n",
      "452  239849.930575\n",
      "453  154802.899017\n",
      "454  121569.271996\n",
      "455  185493.238704\n",
      "456  347395.227048\n",
      "457  327863.789044\n",
      "458  253075.590577\n",
      "459  160410.331793\n",
      "460  127562.852792\n",
      "461   93000.806848\n",
      "462  182442.365573\n",
      "463  213614.767279\n",
      "464  178177.865551\n",
      "465  504462.639821\n",
      "466  197075.735407\n",
      "467  207184.754869\n",
      "468  147251.568952\n",
      "469  315403.266356\n",
      "470  122539.364211\n",
      "471  107213.656439\n",
      "472  124634.053248\n",
      "473  127800.299493\n",
      "474  207253.093401\n",
      "475  259393.372601\n",
      "476  138139.185240\n",
      "477  118981.579850\n",
      "478  101774.583764\n",
      "479  224547.268157\n",
      "480  122957.086255\n",
      "481  176125.124098\n",
      "\n",
      "[482 rows x 1 columns]\n"
     ]
    }
   ],
   "source": [
    "model2=GradientBoostingRegressor(max_depth=4,min_samples_leaf=3,min_samples_split=6,n_estimators=100,subsample=1.0)\n",
    "model2.fit(X_train,y_train)\n",
    "val_pred2=model2.predict(X_val)\n",
    "X_test.fillna(value=X_test.mean(),inplace=True)\n",
    "test_pred2=model2.predict(X_test)\n",
    "val_pred2=pd.DataFrame(val_pred2)\n",
    "test_pred2=pd.DataFrame(test_pred2)\n",
    "print(val_pred2)"
   ]
  },
  {
   "cell_type": "code",
   "execution_count": null,
   "metadata": {},
   "outputs": [],
   "source": []
  },
  {
   "cell_type": "code",
   "execution_count": 96,
   "metadata": {},
   "outputs": [
    {
     "name": "stderr",
     "output_type": "stream",
     "text": [
      "C:\\Users\\arvind\\Anaconda3\\lib\\site-packages\\xgboost\\core.py:587: FutureWarning: Series.base is deprecated and will be removed in a future version\n",
      "  if getattr(data, 'base', None) is not None and \\\n"
     ]
    },
    {
     "name": "stdout",
     "output_type": "stream",
     "text": [
      "[14:52:32] WARNING: C:/Jenkins/workspace/xgboost-win64_release_0.90/src/objective/regression_obj.cu:152: reg:linear is now deprecated in favor of reg:squarederror.\n"
     ]
    }
   ],
   "source": [
    "df_val=pd.concat([X_val,val_pred1,val_pred2],axis=1)\n",
    "df_test=pd.concat([X_test,test_pred1,test_pred2],axis=1)\n",
    "model=xgb.XGBRegressor(max_depth=4)\n",
    "df_val.drop(0,axis=1,inplace=True)\n",
    "for i in range(1,484):\n",
    "    y_val[i]=y_val.mean()\n",
    "model.fit(df_val,y_val)\n",
    "final_result=model.predict(X_test)"
   ]
  },
  {
   "cell_type": "code",
   "execution_count": 97,
   "metadata": {},
   "outputs": [
    {
     "name": "stdout",
     "output_type": "stream",
     "text": [
      "        Id\n",
      "0     1461\n",
      "1     1462\n",
      "2     1463\n",
      "3     1464\n",
      "4     1465\n",
      "5     1466\n",
      "6     1467\n",
      "7     1468\n",
      "8     1469\n",
      "9     1470\n",
      "10    1471\n",
      "11    1472\n",
      "12    1473\n",
      "13    1474\n",
      "14    1475\n",
      "15    1476\n",
      "16    1477\n",
      "17    1478\n",
      "18    1479\n",
      "19    1480\n",
      "20    1481\n",
      "21    1482\n",
      "22    1483\n",
      "23    1484\n",
      "24    1485\n",
      "25    1486\n",
      "26    1487\n",
      "27    1488\n",
      "28    1489\n",
      "29    1490\n",
      "...    ...\n",
      "1429  2890\n",
      "1430  2891\n",
      "1431  2892\n",
      "1432  2893\n",
      "1433  2894\n",
      "1434  2895\n",
      "1435  2896\n",
      "1436  2897\n",
      "1437  2898\n",
      "1438  2899\n",
      "1439  2900\n",
      "1440  2901\n",
      "1441  2902\n",
      "1442  2903\n",
      "1443  2904\n",
      "1444  2905\n",
      "1445  2906\n",
      "1446  2907\n",
      "1447  2908\n",
      "1448  2909\n",
      "1449  2910\n",
      "1450  2911\n",
      "1451  2912\n",
      "1452  2913\n",
      "1453  2914\n",
      "1454  2915\n",
      "1455  2916\n",
      "1456  2917\n",
      "1457  2918\n",
      "1458  2919\n",
      "\n",
      "[1459 rows x 1 columns]\n"
     ]
    }
   ],
   "source": [
    "dataframe=pd.DataFrame(test_data['Id'],columns=['Id'])\n",
    "print(dataframe)"
   ]
  },
  {
   "cell_type": "code",
   "execution_count": 98,
   "metadata": {},
   "outputs": [],
   "source": [
    "dataframe['SalePrice']=final_result"
   ]
  },
  {
   "cell_type": "code",
   "execution_count": 99,
   "metadata": {},
   "outputs": [
    {
     "name": "stdout",
     "output_type": "stream",
     "text": [
      "        Id      SalePrice\n",
      "0     1461  171623.406250\n",
      "1     1462  181646.109375\n",
      "2     1463  186094.703125\n",
      "3     1464  184621.859375\n",
      "4     1465  186950.437500\n",
      "5     1466  180476.234375\n",
      "6     1467  200889.734375\n",
      "7     1468  176987.515625\n",
      "8     1469  187012.187500\n",
      "9     1470  176828.718750\n",
      "10    1471  188106.625000\n",
      "11    1472  192241.031250\n",
      "12    1473  183323.140625\n",
      "13    1474  181004.140625\n",
      "14    1475  317669.687500\n",
      "15    1476  175487.078125\n",
      "16    1477  178628.578125\n",
      "17    1478  173843.625000\n",
      "18    1479  157304.125000\n",
      "19    1480  150161.906250\n",
      "20    1481  179725.796875\n",
      "21    1482  187195.625000\n",
      "22    1483  190955.953125\n",
      "23    1484  192308.390625\n",
      "24    1485  193147.703125\n",
      "25    1486  209283.015625\n",
      "26    1487  191045.015625\n",
      "27    1488  172876.031250\n",
      "28    1489  175257.312500\n",
      "29    1490  186384.437500\n",
      "...    ...            ...\n",
      "1429  2890  192328.656250\n",
      "1430  2891  173760.609375\n",
      "1431  2892  184548.015625\n",
      "1432  2893  172708.625000\n",
      "1433  2894  195197.687500\n",
      "1434  2895  189064.796875\n",
      "1435  2896  190389.812500\n",
      "1436  2897  185188.687500\n",
      "1437  2898  210601.343750\n",
      "1438  2899  185574.265625\n",
      "1439  2900  182485.421875\n",
      "1440  2901  204862.359375\n",
      "1441  2902  185428.281250\n",
      "1442  2903  174619.968750\n",
      "1443  2904  160248.234375\n",
      "1444  2905  185395.187500\n",
      "1445  2906  183828.875000\n",
      "1446  2907  177417.250000\n",
      "1447  2908  183004.250000\n",
      "1448  2909  197524.671875\n",
      "1449  2910  182208.359375\n",
      "1450  2911  184356.750000\n",
      "1451  2912  190222.890625\n",
      "1452  2913  181176.062500\n",
      "1453  2914  174312.578125\n",
      "1454  2915  174312.578125\n",
      "1455  2916  181176.062500\n",
      "1456  2917  184730.031250\n",
      "1457  2918  178115.468750\n",
      "1458  2919  176500.406250\n",
      "\n",
      "[1459 rows x 2 columns]\n"
     ]
    }
   ],
   "source": [
    "print(dataframe)"
   ]
  },
  {
   "cell_type": "code",
   "execution_count": 100,
   "metadata": {},
   "outputs": [],
   "source": [
    "path='C:\\\\Users\\\\arvind\\\\Desktop\\\\'"
   ]
  },
  {
   "cell_type": "code",
   "execution_count": 101,
   "metadata": {},
   "outputs": [],
   "source": [
    "import os\n",
    "dataframe.to_csv(os.path.join(path,r'sample_submission.csv'),index=False)"
   ]
  },
  {
   "cell_type": "code",
   "execution_count": null,
   "metadata": {},
   "outputs": [],
   "source": []
  }
 ],
 "metadata": {
  "kernelspec": {
   "display_name": "Python 3",
   "language": "python",
   "name": "python3"
  },
  "language_info": {
   "codemirror_mode": {
    "name": "ipython",
    "version": 3
   },
   "file_extension": ".py",
   "mimetype": "text/x-python",
   "name": "python",
   "nbconvert_exporter": "python",
   "pygments_lexer": "ipython3",
   "version": "3.6.5"
  }
 },
 "nbformat": 4,
 "nbformat_minor": 2
}
