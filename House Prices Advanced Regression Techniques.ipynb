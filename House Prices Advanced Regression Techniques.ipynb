{
 "cells": [
  {
   "cell_type": "code",
   "execution_count": 135,
   "metadata": {},
   "outputs": [],
   "source": [
    "import pandas as pd\n",
    "import numpy as np\n",
    "import matplotlib.pyplot as plt\n",
    "import seaborn as sns\n",
    "%matplotlib inline"
   ]
  },
  {
   "cell_type": "code",
   "execution_count": 136,
   "metadata": {},
   "outputs": [],
   "source": [
    "train_data=pd.read_csv(\"C:\\\\Arvind Files\\\\ML PROJECT FILES\\\\house-prices-advanced-regression-techniques\\\\train.csv\",engine='python')"
   ]
  },
  {
   "cell_type": "code",
   "execution_count": 137,
   "metadata": {},
   "outputs": [
    {
     "data": {
      "text/html": [
       "<div>\n",
       "<style scoped>\n",
       "    .dataframe tbody tr th:only-of-type {\n",
       "        vertical-align: middle;\n",
       "    }\n",
       "\n",
       "    .dataframe tbody tr th {\n",
       "        vertical-align: top;\n",
       "    }\n",
       "\n",
       "    .dataframe thead th {\n",
       "        text-align: right;\n",
       "    }\n",
       "</style>\n",
       "<table border=\"1\" class=\"dataframe\">\n",
       "  <thead>\n",
       "    <tr style=\"text-align: right;\">\n",
       "      <th></th>\n",
       "      <th>Id</th>\n",
       "      <th>MSSubClass</th>\n",
       "      <th>MSZoning</th>\n",
       "      <th>LotFrontage</th>\n",
       "      <th>LotArea</th>\n",
       "      <th>Street</th>\n",
       "      <th>Alley</th>\n",
       "      <th>LotShape</th>\n",
       "      <th>LandContour</th>\n",
       "      <th>Utilities</th>\n",
       "      <th>...</th>\n",
       "      <th>PoolArea</th>\n",
       "      <th>PoolQC</th>\n",
       "      <th>Fence</th>\n",
       "      <th>MiscFeature</th>\n",
       "      <th>MiscVal</th>\n",
       "      <th>MoSold</th>\n",
       "      <th>YrSold</th>\n",
       "      <th>SaleType</th>\n",
       "      <th>SaleCondition</th>\n",
       "      <th>SalePrice</th>\n",
       "    </tr>\n",
       "  </thead>\n",
       "  <tbody>\n",
       "    <tr>\n",
       "      <th>0</th>\n",
       "      <td>1</td>\n",
       "      <td>60</td>\n",
       "      <td>RL</td>\n",
       "      <td>65.0</td>\n",
       "      <td>8450</td>\n",
       "      <td>Pave</td>\n",
       "      <td>NaN</td>\n",
       "      <td>Reg</td>\n",
       "      <td>Lvl</td>\n",
       "      <td>AllPub</td>\n",
       "      <td>...</td>\n",
       "      <td>0</td>\n",
       "      <td>NaN</td>\n",
       "      <td>NaN</td>\n",
       "      <td>NaN</td>\n",
       "      <td>0</td>\n",
       "      <td>2</td>\n",
       "      <td>2008</td>\n",
       "      <td>WD</td>\n",
       "      <td>Normal</td>\n",
       "      <td>208500</td>\n",
       "    </tr>\n",
       "    <tr>\n",
       "      <th>1</th>\n",
       "      <td>2</td>\n",
       "      <td>20</td>\n",
       "      <td>RL</td>\n",
       "      <td>80.0</td>\n",
       "      <td>9600</td>\n",
       "      <td>Pave</td>\n",
       "      <td>NaN</td>\n",
       "      <td>Reg</td>\n",
       "      <td>Lvl</td>\n",
       "      <td>AllPub</td>\n",
       "      <td>...</td>\n",
       "      <td>0</td>\n",
       "      <td>NaN</td>\n",
       "      <td>NaN</td>\n",
       "      <td>NaN</td>\n",
       "      <td>0</td>\n",
       "      <td>5</td>\n",
       "      <td>2007</td>\n",
       "      <td>WD</td>\n",
       "      <td>Normal</td>\n",
       "      <td>181500</td>\n",
       "    </tr>\n",
       "    <tr>\n",
       "      <th>2</th>\n",
       "      <td>3</td>\n",
       "      <td>60</td>\n",
       "      <td>RL</td>\n",
       "      <td>68.0</td>\n",
       "      <td>11250</td>\n",
       "      <td>Pave</td>\n",
       "      <td>NaN</td>\n",
       "      <td>IR1</td>\n",
       "      <td>Lvl</td>\n",
       "      <td>AllPub</td>\n",
       "      <td>...</td>\n",
       "      <td>0</td>\n",
       "      <td>NaN</td>\n",
       "      <td>NaN</td>\n",
       "      <td>NaN</td>\n",
       "      <td>0</td>\n",
       "      <td>9</td>\n",
       "      <td>2008</td>\n",
       "      <td>WD</td>\n",
       "      <td>Normal</td>\n",
       "      <td>223500</td>\n",
       "    </tr>\n",
       "    <tr>\n",
       "      <th>3</th>\n",
       "      <td>4</td>\n",
       "      <td>70</td>\n",
       "      <td>RL</td>\n",
       "      <td>60.0</td>\n",
       "      <td>9550</td>\n",
       "      <td>Pave</td>\n",
       "      <td>NaN</td>\n",
       "      <td>IR1</td>\n",
       "      <td>Lvl</td>\n",
       "      <td>AllPub</td>\n",
       "      <td>...</td>\n",
       "      <td>0</td>\n",
       "      <td>NaN</td>\n",
       "      <td>NaN</td>\n",
       "      <td>NaN</td>\n",
       "      <td>0</td>\n",
       "      <td>2</td>\n",
       "      <td>2006</td>\n",
       "      <td>WD</td>\n",
       "      <td>Abnorml</td>\n",
       "      <td>140000</td>\n",
       "    </tr>\n",
       "    <tr>\n",
       "      <th>4</th>\n",
       "      <td>5</td>\n",
       "      <td>60</td>\n",
       "      <td>RL</td>\n",
       "      <td>84.0</td>\n",
       "      <td>14260</td>\n",
       "      <td>Pave</td>\n",
       "      <td>NaN</td>\n",
       "      <td>IR1</td>\n",
       "      <td>Lvl</td>\n",
       "      <td>AllPub</td>\n",
       "      <td>...</td>\n",
       "      <td>0</td>\n",
       "      <td>NaN</td>\n",
       "      <td>NaN</td>\n",
       "      <td>NaN</td>\n",
       "      <td>0</td>\n",
       "      <td>12</td>\n",
       "      <td>2008</td>\n",
       "      <td>WD</td>\n",
       "      <td>Normal</td>\n",
       "      <td>250000</td>\n",
       "    </tr>\n",
       "  </tbody>\n",
       "</table>\n",
       "<p>5 rows × 81 columns</p>\n",
       "</div>"
      ],
      "text/plain": [
       "   Id  MSSubClass MSZoning  LotFrontage  LotArea Street Alley LotShape  \\\n",
       "0   1          60       RL         65.0     8450   Pave   NaN      Reg   \n",
       "1   2          20       RL         80.0     9600   Pave   NaN      Reg   \n",
       "2   3          60       RL         68.0    11250   Pave   NaN      IR1   \n",
       "3   4          70       RL         60.0     9550   Pave   NaN      IR1   \n",
       "4   5          60       RL         84.0    14260   Pave   NaN      IR1   \n",
       "\n",
       "  LandContour Utilities    ...     PoolArea PoolQC Fence MiscFeature MiscVal  \\\n",
       "0         Lvl    AllPub    ...            0    NaN   NaN         NaN       0   \n",
       "1         Lvl    AllPub    ...            0    NaN   NaN         NaN       0   \n",
       "2         Lvl    AllPub    ...            0    NaN   NaN         NaN       0   \n",
       "3         Lvl    AllPub    ...            0    NaN   NaN         NaN       0   \n",
       "4         Lvl    AllPub    ...            0    NaN   NaN         NaN       0   \n",
       "\n",
       "  MoSold YrSold  SaleType  SaleCondition  SalePrice  \n",
       "0      2   2008        WD         Normal     208500  \n",
       "1      5   2007        WD         Normal     181500  \n",
       "2      9   2008        WD         Normal     223500  \n",
       "3      2   2006        WD        Abnorml     140000  \n",
       "4     12   2008        WD         Normal     250000  \n",
       "\n",
       "[5 rows x 81 columns]"
      ]
     },
     "execution_count": 137,
     "metadata": {},
     "output_type": "execute_result"
    }
   ],
   "source": [
    "train_data.head()"
   ]
  },
  {
   "cell_type": "code",
   "execution_count": 138,
   "metadata": {},
   "outputs": [
    {
     "data": {
      "text/plain": [
       "<matplotlib.axes._subplots.AxesSubplot at 0x24e677a2860>"
      ]
     },
     "execution_count": 138,
     "metadata": {},
     "output_type": "execute_result"
    },
    {
     "data": {
      "image/png": "[encoded data removed]",
      "text/plain": [
       "<Figure size 432x288 with 2 Axes>"
      ]
     },
     "metadata": {},
     "output_type": "display_data"
    }
   ],
   "source": [
    "sns.heatmap(train_data.isnull(),cmap='viridis',linewidth=3,linecolor='black',yticklabels=False)"
   ]
  },
  {
   "cell_type": "code",
   "execution_count": 139,
   "metadata": {},
   "outputs": [
    {
     "name": "stdout",
     "output_type": "stream",
     "text": [
      "Id               False\n",
      "MSSubClass       False\n",
      "LotFrontage      False\n",
      "LotArea          False\n",
      "OverallQual       True\n",
      "OverallCond      False\n",
      "YearBuilt         True\n",
      "YearRemodAdd      True\n",
      "MasVnrArea       False\n",
      "BsmtFinSF1       False\n",
      "BsmtFinSF2       False\n",
      "BsmtUnfSF        False\n",
      "TotalBsmtSF       True\n",
      "1stFlrSF          True\n",
      "2ndFlrSF         False\n",
      "LowQualFinSF     False\n",
      "GrLivArea         True\n",
      "BsmtFullBath     False\n",
      "BsmtHalfBath     False\n",
      "FullBath          True\n",
      "HalfBath         False\n",
      "BedroomAbvGr     False\n",
      "KitchenAbvGr     False\n",
      "TotRmsAbvGrd      True\n",
      "Fireplaces       False\n",
      "GarageYrBlt      False\n",
      "GarageCars        True\n",
      "GarageArea        True\n",
      "WoodDeckSF       False\n",
      "OpenPorchSF      False\n",
      "EnclosedPorch    False\n",
      "3SsnPorch        False\n",
      "ScreenPorch      False\n",
      "PoolArea         False\n",
      "MiscVal          False\n",
      "MoSold           False\n",
      "YrSold           False\n",
      "SalePrice         True\n",
      "Name: SalePrice, dtype: bool\n"
     ]
    }
   ],
   "source": [
    "corr=train_data.corr()\n",
    "print(corr['SalePrice']>0.5)"
   ]
  },
  {
   "cell_type": "code",
   "execution_count": 140,
   "metadata": {},
   "outputs": [],
   "source": [
    "from sklearn.model_selection import train_test_split"
   ]
  },
  {
   "cell_type": "code",
   "execution_count": 141,
   "metadata": {},
   "outputs": [
    {
     "name": "stderr",
     "output_type": "stream",
     "text": [
      "C:\\Users\\arvind\\Anaconda3\\lib\\site-packages\\ipykernel_launcher.py:3: SettingWithCopyWarning: \n",
      "A value is trying to be set on a copy of a slice from a DataFrame.\n",
      "Try using .loc[row_indexer,col_indexer] = value instead\n",
      "\n",
      "See the caveats in the documentation: http://pandas.pydata.org/pandas-docs/stable/indexing.html#indexing-view-versus-copy\n",
      "  This is separate from the ipykernel package so we can avoid doing imports until\n",
      "C:\\Users\\arvind\\Anaconda3\\lib\\site-packages\\pandas\\core\\frame.py:3160: SettingWithCopyWarning: \n",
      "A value is trying to be set on a copy of a slice from a DataFrame\n",
      "\n",
      "See the caveats in the documentation: http://pandas.pydata.org/pandas-docs/stable/indexing.html#indexing-view-versus-copy\n",
      "  self._where(-key, value, inplace=True)\n",
      "C:\\Users\\arvind\\Anaconda3\\lib\\site-packages\\pandas\\core\\generic.py:5430: SettingWithCopyWarning: \n",
      "A value is trying to be set on a copy of a slice from a DataFrame\n",
      "\n",
      "See the caveats in the documentation: http://pandas.pydata.org/pandas-docs/stable/indexing.html#indexing-view-versus-copy\n",
      "  self._update_inplace(new_data)\n",
      "C:\\Users\\arvind\\Anaconda3\\lib\\site-packages\\ipykernel_launcher.py:5: SettingWithCopyWarning: \n",
      "A value is trying to be set on a copy of a slice from a DataFrame\n",
      "\n",
      "See the caveats in the documentation: http://pandas.pydata.org/pandas-docs/stable/indexing.html#indexing-view-versus-copy\n",
      "  \"\"\"\n"
     ]
    }
   ],
   "source": [
    "X=train_data[['OverallQual','YearBuilt','YearRemodAdd','TotalBsmtSF','1stFlrSF','GrLivArea','FullBath','TotRmsAbvGrd','GarageCars','GarageArea']]\n",
    "y=train_data['SalePrice']\n",
    "X[X==np.inf]=np.nan\n",
    "X.fillna(X.mean(), inplace=True)\n",
    "y[y==np.inf]=np.nan\n",
    "y.fillna(X.mean(),inplace=True)"
   ]
  },
  {
   "cell_type": "code",
   "execution_count": 142,
   "metadata": {},
   "outputs": [
    {
     "data": {
      "text/plain": [
       "<bound method DataFrame.any of       OverallQual  YearBuilt  YearRemodAdd  TotalBsmtSF  1stFlrSF  GrLivArea  \\\n",
       "0           False      False         False        False     False      False   \n",
       "1           False      False         False        False     False      False   \n",
       "2           False      False         False        False     False      False   \n",
       "3           False      False         False        False     False      False   \n",
       "4           False      False         False        False     False      False   \n",
       "5           False      False         False        False     False      False   \n",
       "6           False      False         False        False     False      False   \n",
       "7           False      False         False        False     False      False   \n",
       "8           False      False         False        False     False      False   \n",
       "9           False      False         False        False     False      False   \n",
       "10          False      False         False        False     False      False   \n",
       "11          False      False         False        False     False      False   \n",
       "12          False      False         False        False     False      False   \n",
       "13          False      False         False        False     False      False   \n",
       "14          False      False         False        False     False      False   \n",
       "15          False      False         False        False     False      False   \n",
       "16          False      False         False        False     False      False   \n",
       "17          False      False         False        False     False      False   \n",
       "18          False      False         False        False     False      False   \n",
       "19          False      False         False        False     False      False   \n",
       "20          False      False         False        False     False      False   \n",
       "21          False      False         False        False     False      False   \n",
       "22          False      False         False        False     False      False   \n",
       "23          False      False         False        False     False      False   \n",
       "24          False      False         False        False     False      False   \n",
       "25          False      False         False        False     False      False   \n",
       "26          False      False         False        False     False      False   \n",
       "27          False      False         False        False     False      False   \n",
       "28          False      False         False        False     False      False   \n",
       "29          False      False         False        False     False      False   \n",
       "...           ...        ...           ...          ...       ...        ...   \n",
       "1430        False      False         False        False     False      False   \n",
       "1431        False      False         False        False     False      False   \n",
       "1432        False      False         False        False     False      False   \n",
       "1433        False      False         False        False     False      False   \n",
       "1434        False      False         False        False     False      False   \n",
       "1435        False      False         False        False     False      False   \n",
       "1436        False      False         False        False     False      False   \n",
       "1437        False      False         False        False     False      False   \n",
       "1438        False      False         False        False     False      False   \n",
       "1439        False      False         False        False     False      False   \n",
       "1440        False      False         False        False     False      False   \n",
       "1441        False      False         False        False     False      False   \n",
       "1442        False      False         False        False     False      False   \n",
       "1443        False      False         False        False     False      False   \n",
       "1444        False      False         False        False     False      False   \n",
       "1445        False      False         False        False     False      False   \n",
       "1446        False      False         False        False     False      False   \n",
       "1447        False      False         False        False     False      False   \n",
       "1448        False      False         False        False     False      False   \n",
       "1449        False      False         False        False     False      False   \n",
       "1450        False      False         False        False     False      False   \n",
       "1451        False      False         False        False     False      False   \n",
       "1452        False      False         False        False     False      False   \n",
       "1453        False      False         False        False     False      False   \n",
       "1454        False      False         False        False     False      False   \n",
       "1455        False      False         False        False     False      False   \n",
       "1456        False      False         False        False     False      False   \n",
       "1457        False      False         False        False     False      False   \n",
       "1458        False      False         False        False     False      False   \n",
       "1459        False      False         False        False     False      False   \n",
       "\n",
       "      FullBath  TotRmsAbvGrd  GarageCars  GarageArea  \n",
       "0        False         False       False       False  \n",
       "1        False         False       False       False  \n",
       "2        False         False       False       False  \n",
       "3        False         False       False       False  \n",
       "4        False         False       False       False  \n",
       "5        False         False       False       False  \n",
       "6        False         False       False       False  \n",
       "7        False         False       False       False  \n",
       "8        False         False       False       False  \n",
       "9        False         False       False       False  \n",
       "10       False         False       False       False  \n",
       "11       False         False       False       False  \n",
       "12       False         False       False       False  \n",
       "13       False         False       False       False  \n",
       "14       False         False       False       False  \n",
       "15       False         False       False       False  \n",
       "16       False         False       False       False  \n",
       "17       False         False       False       False  \n",
       "18       False         False       False       False  \n",
       "19       False         False       False       False  \n",
       "20       False         False       False       False  \n",
       "21       False         False       False       False  \n",
       "22       False         False       False       False  \n",
       "23       False         False       False       False  \n",
       "24       False         False       False       False  \n",
       "25       False         False       False       False  \n",
       "26       False         False       False       False  \n",
       "27       False         False       False       False  \n",
       "28       False         False       False       False  \n",
       "29       False         False       False       False  \n",
       "...        ...           ...         ...         ...  \n",
       "1430     False         False       False       False  \n",
       "1431     False         False       False       False  \n",
       "1432     False         False       False       False  \n",
       "1433     False         False       False       False  \n",
       "1434     False         False       False       False  \n",
       "1435     False         False       False       False  \n",
       "1436     False         False       False       False  \n",
       "1437     False         False       False       False  \n",
       "1438     False         False       False       False  \n",
       "1439     False         False       False       False  \n",
       "1440     False         False       False       False  \n",
       "1441     False         False       False       False  \n",
       "1442     False         False       False       False  \n",
       "1443     False         False       False       False  \n",
       "1444     False         False       False       False  \n",
       "1445     False         False       False       False  \n",
       "1446     False         False       False       False  \n",
       "1447     False         False       False       False  \n",
       "1448     False         False       False       False  \n",
       "1449     False         False       False       False  \n",
       "1450     False         False       False       False  \n",
       "1451     False         False       False       False  \n",
       "1452     False         False       False       False  \n",
       "1453     False         False       False       False  \n",
       "1454     False         False       False       False  \n",
       "1455     False         False       False       False  \n",
       "1456     False         False       False       False  \n",
       "1457     False         False       False       False  \n",
       "1458     False         False       False       False  \n",
       "1459     False         False       False       False  \n",
       "\n",
       "[1460 rows x 10 columns]>"
      ]
     },
     "execution_count": 142,
     "metadata": {},
     "output_type": "execute_result"
    }
   ],
   "source": [
    "X.isnull().any"
   ]
  },
  {
   "cell_type": "code",
   "execution_count": 143,
   "metadata": {},
   "outputs": [
    {
     "data": {
      "text/plain": [
       "<bound method Series.any of 0       False\n",
       "1       False\n",
       "2       False\n",
       "3       False\n",
       "4       False\n",
       "5       False\n",
       "6       False\n",
       "7       False\n",
       "8       False\n",
       "9       False\n",
       "10      False\n",
       "11      False\n",
       "12      False\n",
       "13      False\n",
       "14      False\n",
       "15      False\n",
       "16      False\n",
       "17      False\n",
       "18      False\n",
       "19      False\n",
       "20      False\n",
       "21      False\n",
       "22      False\n",
       "23      False\n",
       "24      False\n",
       "25      False\n",
       "26      False\n",
       "27      False\n",
       "28      False\n",
       "29      False\n",
       "        ...  \n",
       "1430    False\n",
       "1431    False\n",
       "1432    False\n",
       "1433    False\n",
       "1434    False\n",
       "1435    False\n",
       "1436    False\n",
       "1437    False\n",
       "1438    False\n",
       "1439    False\n",
       "1440    False\n",
       "1441    False\n",
       "1442    False\n",
       "1443    False\n",
       "1444    False\n",
       "1445    False\n",
       "1446    False\n",
       "1447    False\n",
       "1448    False\n",
       "1449    False\n",
       "1450    False\n",
       "1451    False\n",
       "1452    False\n",
       "1453    False\n",
       "1454    False\n",
       "1455    False\n",
       "1456    False\n",
       "1457    False\n",
       "1458    False\n",
       "1459    False\n",
       "Name: SalePrice, Length: 1460, dtype: bool>"
      ]
     },
     "execution_count": 143,
     "metadata": {},
     "output_type": "execute_result"
    }
   ],
   "source": [
    "y.isnull().any"
   ]
  },
  {
   "cell_type": "code",
   "execution_count": 144,
   "metadata": {},
   "outputs": [],
   "source": [
    "from sklearn.feature_selection import RFE\n",
    "from sklearn.linear_model import LinearRegression\n",
    "from sklearn.linear_model import Lasso\n",
    "from sklearn.linear_model import ElasticNet\n",
    "from sklearn.tree import DecisionTreeRegressor\n",
    "from sklearn.neighbors import KNeighborsRegressor\n",
    "from sklearn.ensemble import GradientBoostingRegressor\n",
    "import xgboost as xgb "
   ]
  },
  {
   "cell_type": "code",
   "execution_count": 145,
   "metadata": {},
   "outputs": [],
   "source": [
    "model=xgb.XGBRegressor()"
   ]
  },
  {
   "cell_type": "code",
   "execution_count": 146,
   "metadata": {},
   "outputs": [],
   "source": [
    "rfe=RFE(model,10)"
   ]
  },
  {
   "cell_type": "code",
   "execution_count": 147,
   "metadata": {},
   "outputs": [
    {
     "name": "stdout",
     "output_type": "stream",
     "text": [
      "[20:16:40] WARNING: C:/Jenkins/workspace/xgboost-win64_release_0.90/src/objective/regression_obj.cu:152: reg:linear is now deprecated in favor of reg:squarederror.\n"
     ]
    }
   ],
   "source": [
    "X_rfe=rfe.fit_transform(X,y)"
   ]
  },
  {
   "cell_type": "code",
   "execution_count": 148,
   "metadata": {},
   "outputs": [
    {
     "name": "stdout",
     "output_type": "stream",
     "text": [
      "[20:16:40] WARNING: C:/Jenkins/workspace/xgboost-win64_release_0.90/src/objective/regression_obj.cu:152: reg:linear is now deprecated in favor of reg:squarederror.\n"
     ]
    },
    {
     "name": "stderr",
     "output_type": "stream",
     "text": [
      "C:\\Users\\arvind\\Anaconda3\\lib\\site-packages\\xgboost\\core.py:587: FutureWarning: Series.base is deprecated and will be removed in a future version\n",
      "  if getattr(data, 'base', None) is not None and \\\n",
      "C:\\Users\\arvind\\Anaconda3\\lib\\site-packages\\xgboost\\core.py:588: FutureWarning: Series.base is deprecated and will be removed in a future version\n",
      "  data.base is not None and isinstance(data, np.ndarray) \\\n"
     ]
    },
    {
     "data": {
      "text/plain": [
       "XGBRegressor(base_score=0.5, booster='gbtree', colsample_bylevel=1,\n",
       "       colsample_bynode=1, colsample_bytree=1, gamma=0,\n",
       "       importance_type='gain', learning_rate=0.1, max_delta_step=0,\n",
       "       max_depth=3, min_child_weight=1, missing=None, n_estimators=100,\n",
       "       n_jobs=1, nthread=None, objective='reg:linear', random_state=0,\n",
       "       reg_alpha=0, reg_lambda=1, scale_pos_weight=1, seed=None,\n",
       "       silent=None, subsample=1, verbosity=1)"
      ]
     },
     "execution_count": 148,
     "metadata": {},
     "output_type": "execute_result"
    }
   ],
   "source": [
    "model.fit(X_rfe,y)"
   ]
  },
  {
   "cell_type": "code",
   "execution_count": 149,
   "metadata": {},
   "outputs": [
    {
     "name": "stdout",
     "output_type": "stream",
     "text": [
      "[ True  True  True  True  True  True  True  True  True  True]\n"
     ]
    }
   ],
   "source": [
    "print(rfe.support_)"
   ]
  },
  {
   "cell_type": "code",
   "execution_count": 150,
   "metadata": {},
   "outputs": [],
   "source": [
    "# NOW WE KNOW WHAT ARE THE BEST FEATURES FOR THE TARGET_VARIABLE NOW ITS TIME TO TUNE HYPERPARAMETERS"
   ]
  },
  {
   "cell_type": "code",
   "execution_count": 151,
   "metadata": {},
   "outputs": [],
   "source": [
    "from sklearn.grid_search import GridSearchCV"
   ]
  },
  {
   "cell_type": "code",
   "execution_count": 152,
   "metadata": {},
   "outputs": [],
   "source": [
    "param_grid={'max_depth':[0,2,4,6,8,10]}"
   ]
  },
  {
   "cell_type": "code",
   "execution_count": 153,
   "metadata": {},
   "outputs": [],
   "source": [
    "grid=GridSearchCV(model,param_grid,verbose=2)"
   ]
  },
  {
   "cell_type": "code",
   "execution_count": 154,
   "metadata": {},
   "outputs": [
    {
     "name": "stdout",
     "output_type": "stream",
     "text": [
      "Fitting 3 folds for each of 6 candidates, totalling 18 fits\n",
      "[CV] max_depth=0 .....................................................\n",
      "[20:16:43] WARNING: C:/Jenkins/workspace/xgboost-win64_release_0.90/src/objective/regression_obj.cu:152: reg:linear is now deprecated in favor of reg:squarederror.\n",
      "[CV] ............................................ max_depth=0 -   0.0s\n",
      "[CV] max_depth=0 .....................................................\n",
      "[20:16:43] WARNING: C:/Jenkins/workspace/xgboost-win64_release_0.90/src/objective/regression_obj.cu:152: reg:linear is now deprecated in favor of reg:squarederror.\n",
      "[CV] ............................................ max_depth=0 -   0.0s\n",
      "[CV] max_depth=0 .....................................................\n",
      "[20:16:43] WARNING: C:/Jenkins/workspace/xgboost-win64_release_0.90/src/objective/regression_obj.cu:152: reg:linear is now deprecated in favor of reg:squarederror.\n",
      "[CV] ............................................ max_depth=0 -   0.0s\n",
      "[CV] max_depth=2 .....................................................\n",
      "[20:16:44] WARNING: C:/Jenkins/workspace/xgboost-win64_release_0.90/src/objective/regression_obj.cu:152: reg:linear is now deprecated in favor of reg:squarederror.\n"
     ]
    },
    {
     "name": "stderr",
     "output_type": "stream",
     "text": [
      "C:\\Users\\arvind\\Anaconda3\\lib\\site-packages\\xgboost\\core.py:587: FutureWarning: Series.base is deprecated and will be removed in a future version\n",
      "  if getattr(data, 'base', None) is not None and \\\n",
      "[Parallel(n_jobs=1)]: Done   1 out of   1 | elapsed:    0.0s remaining:    0.0s\n",
      "C:\\Users\\arvind\\Anaconda3\\lib\\site-packages\\xgboost\\core.py:587: FutureWarning: Series.base is deprecated and will be removed in a future version\n",
      "  if getattr(data, 'base', None) is not None and \\\n",
      "C:\\Users\\arvind\\Anaconda3\\lib\\site-packages\\xgboost\\core.py:587: FutureWarning: Series.base is deprecated and will be removed in a future version\n",
      "  if getattr(data, 'base', None) is not None and \\\n",
      "C:\\Users\\arvind\\Anaconda3\\lib\\site-packages\\xgboost\\core.py:587: FutureWarning: Series.base is deprecated and will be removed in a future version\n",
      "  if getattr(data, 'base', None) is not None and \\\n"
     ]
    },
    {
     "name": "stdout",
     "output_type": "stream",
     "text": [
      "[CV] ............................................ max_depth=2 -   0.0s\n",
      "[CV] max_depth=2 .....................................................\n",
      "[20:16:44] WARNING: C:/Jenkins/workspace/xgboost-win64_release_0.90/src/objective/regression_obj.cu:152: reg:linear is now deprecated in favor of reg:squarederror.\n",
      "[CV] ............................................ max_depth=2 -   0.0s\n",
      "[CV] max_depth=2 .....................................................\n",
      "[20:16:44] WARNING: C:/Jenkins/workspace/xgboost-win64_release_0.90/src/objective/regression_obj.cu:152: reg:linear is now deprecated in favor of reg:squarederror.\n",
      "[CV] ............................................ max_depth=2 -   0.0s\n",
      "[CV] max_depth=4 .....................................................\n",
      "[20:16:44] WARNING: C:/Jenkins/workspace/xgboost-win64_release_0.90/src/objective/regression_obj.cu:152: reg:linear is now deprecated in favor of reg:squarederror.\n"
     ]
    },
    {
     "name": "stderr",
     "output_type": "stream",
     "text": [
      "C:\\Users\\arvind\\Anaconda3\\lib\\site-packages\\xgboost\\core.py:587: FutureWarning: Series.base is deprecated and will be removed in a future version\n",
      "  if getattr(data, 'base', None) is not None and \\\n",
      "C:\\Users\\arvind\\Anaconda3\\lib\\site-packages\\xgboost\\core.py:587: FutureWarning: Series.base is deprecated and will be removed in a future version\n",
      "  if getattr(data, 'base', None) is not None and \\\n",
      "C:\\Users\\arvind\\Anaconda3\\lib\\site-packages\\xgboost\\core.py:587: FutureWarning: Series.base is deprecated and will be removed in a future version\n",
      "  if getattr(data, 'base', None) is not None and \\\n"
     ]
    },
    {
     "name": "stdout",
     "output_type": "stream",
     "text": [
      "[CV] ............................................ max_depth=4 -   0.0s\n",
      "[CV] max_depth=4 .....................................................\n",
      "[20:16:44] WARNING: C:/Jenkins/workspace/xgboost-win64_release_0.90/src/objective/regression_obj.cu:152: reg:linear is now deprecated in favor of reg:squarederror.\n",
      "[CV] ............................................ max_depth=4 -   0.0s\n",
      "[CV] max_depth=4 .....................................................\n",
      "[20:16:44] WARNING: C:/Jenkins/workspace/xgboost-win64_release_0.90/src/objective/regression_obj.cu:152: reg:linear is now deprecated in favor of reg:squarederror.\n"
     ]
    },
    {
     "name": "stderr",
     "output_type": "stream",
     "text": [
      "C:\\Users\\arvind\\Anaconda3\\lib\\site-packages\\xgboost\\core.py:587: FutureWarning: Series.base is deprecated and will be removed in a future version\n",
      "  if getattr(data, 'base', None) is not None and \\\n",
      "C:\\Users\\arvind\\Anaconda3\\lib\\site-packages\\xgboost\\core.py:587: FutureWarning: Series.base is deprecated and will be removed in a future version\n",
      "  if getattr(data, 'base', None) is not None and \\\n"
     ]
    },
    {
     "name": "stdout",
     "output_type": "stream",
     "text": [
      "[CV] ............................................ max_depth=4 -   0.0s\n",
      "[CV] max_depth=6 .....................................................\n",
      "[20:16:44] WARNING: C:/Jenkins/workspace/xgboost-win64_release_0.90/src/objective/regression_obj.cu:152: reg:linear is now deprecated in favor of reg:squarederror.\n",
      "[CV] ............................................ max_depth=6 -   0.1s\n",
      "[CV] max_depth=6 .....................................................\n",
      "[20:16:44] WARNING: C:/Jenkins/workspace/xgboost-win64_release_0.90/src/objective/regression_obj.cu:152: reg:linear is now deprecated in favor of reg:squarederror.\n"
     ]
    },
    {
     "name": "stderr",
     "output_type": "stream",
     "text": [
      "C:\\Users\\arvind\\Anaconda3\\lib\\site-packages\\xgboost\\core.py:587: FutureWarning: Series.base is deprecated and will be removed in a future version\n",
      "  if getattr(data, 'base', None) is not None and \\\n",
      "C:\\Users\\arvind\\Anaconda3\\lib\\site-packages\\xgboost\\core.py:587: FutureWarning: Series.base is deprecated and will be removed in a future version\n",
      "  if getattr(data, 'base', None) is not None and \\\n"
     ]
    },
    {
     "name": "stdout",
     "output_type": "stream",
     "text": [
      "[CV] ............................................ max_depth=6 -   0.1s\n",
      "[CV] max_depth=6 .....................................................\n",
      "[20:16:44] WARNING: C:/Jenkins/workspace/xgboost-win64_release_0.90/src/objective/regression_obj.cu:152: reg:linear is now deprecated in favor of reg:squarederror.\n",
      "[CV] ............................................ max_depth=6 -   0.1s\n",
      "[CV] max_depth=8 .....................................................\n",
      "[20:16:45] WARNING: C:/Jenkins/workspace/xgboost-win64_release_0.90/src/objective/regression_obj.cu:152: reg:linear is now deprecated in favor of reg:squarederror.\n"
     ]
    },
    {
     "name": "stderr",
     "output_type": "stream",
     "text": [
      "C:\\Users\\arvind\\Anaconda3\\lib\\site-packages\\xgboost\\core.py:587: FutureWarning: Series.base is deprecated and will be removed in a future version\n",
      "  if getattr(data, 'base', None) is not None and \\\n",
      "C:\\Users\\arvind\\Anaconda3\\lib\\site-packages\\xgboost\\core.py:587: FutureWarning: Series.base is deprecated and will be removed in a future version\n",
      "  if getattr(data, 'base', None) is not None and \\\n"
     ]
    },
    {
     "name": "stdout",
     "output_type": "stream",
     "text": [
      "[CV] ............................................ max_depth=8 -   0.1s\n",
      "[CV] max_depth=8 .....................................................\n",
      "[20:16:45] WARNING: C:/Jenkins/workspace/xgboost-win64_release_0.90/src/objective/regression_obj.cu:152: reg:linear is now deprecated in favor of reg:squarederror.\n",
      "[CV] ............................................ max_depth=8 -   0.1s\n"
     ]
    },
    {
     "name": "stderr",
     "output_type": "stream",
     "text": [
      "C:\\Users\\arvind\\Anaconda3\\lib\\site-packages\\xgboost\\core.py:587: FutureWarning: Series.base is deprecated and will be removed in a future version\n",
      "  if getattr(data, 'base', None) is not None and \\\n"
     ]
    },
    {
     "name": "stdout",
     "output_type": "stream",
     "text": [
      "[CV] max_depth=8 .....................................................\n",
      "[20:16:45] WARNING: C:/Jenkins/workspace/xgboost-win64_release_0.90/src/objective/regression_obj.cu:152: reg:linear is now deprecated in favor of reg:squarederror.\n",
      "[CV] ............................................ max_depth=8 -   0.1s\n"
     ]
    },
    {
     "name": "stderr",
     "output_type": "stream",
     "text": [
      "C:\\Users\\arvind\\Anaconda3\\lib\\site-packages\\xgboost\\core.py:587: FutureWarning: Series.base is deprecated and will be removed in a future version\n",
      "  if getattr(data, 'base', None) is not None and \\\n"
     ]
    },
    {
     "name": "stdout",
     "output_type": "stream",
     "text": [
      "[CV] max_depth=10 ....................................................\n",
      "[20:16:45] WARNING: C:/Jenkins/workspace/xgboost-win64_release_0.90/src/objective/regression_obj.cu:152: reg:linear is now deprecated in favor of reg:squarederror.\n"
     ]
    },
    {
     "name": "stderr",
     "output_type": "stream",
     "text": [
      "C:\\Users\\arvind\\Anaconda3\\lib\\site-packages\\xgboost\\core.py:587: FutureWarning: Series.base is deprecated and will be removed in a future version\n",
      "  if getattr(data, 'base', None) is not None and \\\n"
     ]
    },
    {
     "name": "stdout",
     "output_type": "stream",
     "text": [
      "[CV] ........................................... max_depth=10 -   0.2s\n",
      "[CV] max_depth=10 ....................................................\n",
      "[20:16:45] WARNING: C:/Jenkins/workspace/xgboost-win64_release_0.90/src/objective/regression_obj.cu:152: reg:linear is now deprecated in favor of reg:squarederror.\n"
     ]
    },
    {
     "name": "stderr",
     "output_type": "stream",
     "text": [
      "C:\\Users\\arvind\\Anaconda3\\lib\\site-packages\\xgboost\\core.py:587: FutureWarning: Series.base is deprecated and will be removed in a future version\n",
      "  if getattr(data, 'base', None) is not None and \\\n"
     ]
    },
    {
     "name": "stdout",
     "output_type": "stream",
     "text": [
      "[CV] ........................................... max_depth=10 -   0.1s\n",
      "[CV] max_depth=10 ....................................................\n",
      "[20:16:46] WARNING: C:/Jenkins/workspace/xgboost-win64_release_0.90/src/objective/regression_obj.cu:152: reg:linear is now deprecated in favor of reg:squarederror.\n"
     ]
    },
    {
     "name": "stderr",
     "output_type": "stream",
     "text": [
      "C:\\Users\\arvind\\Anaconda3\\lib\\site-packages\\xgboost\\core.py:587: FutureWarning: Series.base is deprecated and will be removed in a future version\n",
      "  if getattr(data, 'base', None) is not None and \\\n"
     ]
    },
    {
     "name": "stdout",
     "output_type": "stream",
     "text": [
      "[CV] ........................................... max_depth=10 -   0.1s\n",
      "[20:16:46] WARNING: C:/Jenkins/workspace/xgboost-win64_release_0.90/src/objective/regression_obj.cu:152: reg:linear is now deprecated in favor of reg:squarederror.\n"
     ]
    },
    {
     "name": "stderr",
     "output_type": "stream",
     "text": [
      "[Parallel(n_jobs=1)]: Done  18 out of  18 | elapsed:    2.5s finished\n",
      "C:\\Users\\arvind\\Anaconda3\\lib\\site-packages\\xgboost\\core.py:587: FutureWarning: Series.base is deprecated and will be removed in a future version\n",
      "  if getattr(data, 'base', None) is not None and \\\n",
      "C:\\Users\\arvind\\Anaconda3\\lib\\site-packages\\xgboost\\core.py:588: FutureWarning: Series.base is deprecated and will be removed in a future version\n",
      "  data.base is not None and isinstance(data, np.ndarray) \\\n"
     ]
    },
    {
     "data": {
      "text/plain": [
       "GridSearchCV(cv=None, error_score='raise',\n",
       "       estimator=XGBRegressor(base_score=0.5, booster='gbtree', colsample_bylevel=1,\n",
       "       colsample_bynode=1, colsample_bytree=1, gamma=0,\n",
       "       importance_type='gain', learning_rate=0.1, max_delta_step=0,\n",
       "       max_depth=3, min_child_weight=1, missing=None, n_estimators=100,\n",
       "       n_jobs=1, nthread=None, objective='reg:linear', random_state=0,\n",
       "       reg_alpha=0, reg_lambda=1, scale_pos_weight=1, seed=None,\n",
       "       silent=None, subsample=1, verbosity=1),\n",
       "       fit_params={}, iid=True, n_jobs=1,\n",
       "       param_grid={'max_depth': [0, 2, 4, 6, 8, 10]},\n",
       "       pre_dispatch='2*n_jobs', refit=True, scoring=None, verbose=2)"
      ]
     },
     "execution_count": 154,
     "metadata": {},
     "output_type": "execute_result"
    }
   ],
   "source": [
    "grid.fit(X,y)"
   ]
  },
  {
   "cell_type": "code",
   "execution_count": 155,
   "metadata": {},
   "outputs": [
    {
     "data": {
      "text/plain": [
       "XGBRegressor(base_score=0.5, booster='gbtree', colsample_bylevel=1,\n",
       "       colsample_bynode=1, colsample_bytree=1, gamma=0,\n",
       "       importance_type='gain', learning_rate=0.1, max_delta_step=0,\n",
       "       max_depth=4, min_child_weight=1, missing=None, n_estimators=100,\n",
       "       n_jobs=1, nthread=None, objective='reg:linear', random_state=0,\n",
       "       reg_alpha=0, reg_lambda=1, scale_pos_weight=1, seed=None,\n",
       "       silent=None, subsample=1, verbosity=1)"
      ]
     },
     "execution_count": 155,
     "metadata": {},
     "output_type": "execute_result"
    }
   ],
   "source": [
    "grid.best_estimator_"
   ]
  },
  {
   "cell_type": "code",
   "execution_count": 156,
   "metadata": {},
   "outputs": [
    {
     "data": {
      "text/plain": [
       "{'max_depth': 4}"
      ]
     },
     "execution_count": 156,
     "metadata": {},
     "output_type": "execute_result"
    }
   ],
   "source": [
    "grid.best_params_"
   ]
  },
  {
   "cell_type": "code",
   "execution_count": 157,
   "metadata": {},
   "outputs": [],
   "source": [
    "model=xgb.XGBRegressor(max_depth=5, learning_rate=0.1, n_estimators=200, verbosity=1, silent=None, objective='reg:linear', booster='gbtree', n_jobs=1, nthread=None, gamma=0, min_child_weight=1, max_delta_step=0, subsample=1, colsample_bytree=1, colsample_bylevel=1, colsample_bynode=1, reg_alpha=0, reg_lambda=1, scale_pos_weight=1, base_score=0.5, random_state=0, seed=None, missing=None, importance_type='gain')"
   ]
  },
  {
   "cell_type": "code",
   "execution_count": 158,
   "metadata": {},
   "outputs": [
    {
     "name": "stderr",
     "output_type": "stream",
     "text": [
      "C:\\Users\\arvind\\Anaconda3\\lib\\site-packages\\xgboost\\core.py:587: FutureWarning: Series.base is deprecated and will be removed in a future version\n",
      "  if getattr(data, 'base', None) is not None and \\\n",
      "C:\\Users\\arvind\\Anaconda3\\lib\\site-packages\\xgboost\\core.py:588: FutureWarning: Series.base is deprecated and will be removed in a future version\n",
      "  data.base is not None and isinstance(data, np.ndarray) \\\n"
     ]
    },
    {
     "name": "stdout",
     "output_type": "stream",
     "text": [
      "[20:16:48] WARNING: C:/Jenkins/workspace/xgboost-win64_release_0.90/src/objective/regression_obj.cu:152: reg:linear is now deprecated in favor of reg:squarederror.\n"
     ]
    },
    {
     "data": {
      "text/plain": [
       "XGBRegressor(base_score=0.5, booster='gbtree', colsample_bylevel=1,\n",
       "       colsample_bynode=1, colsample_bytree=1, gamma=0,\n",
       "       importance_type='gain', learning_rate=0.1, max_delta_step=0,\n",
       "       max_depth=5, min_child_weight=1, missing=None, n_estimators=200,\n",
       "       n_jobs=1, nthread=None, objective='reg:linear', random_state=0,\n",
       "       reg_alpha=0, reg_lambda=1, scale_pos_weight=1, seed=None,\n",
       "       silent=None, subsample=1, verbosity=1)"
      ]
     },
     "execution_count": 158,
     "metadata": {},
     "output_type": "execute_result"
    }
   ],
   "source": [
    "model.fit(X,y)"
   ]
  },
  {
   "cell_type": "code",
   "execution_count": 159,
   "metadata": {},
   "outputs": [],
   "source": [
    "test_data=pd.read_csv('C:\\\\Arvind Files\\\\ML PROJECT FILES\\\\house-prices-advanced-regression-techniques\\\\test.csv',engine='python')"
   ]
  },
  {
   "cell_type": "code",
   "execution_count": 160,
   "metadata": {},
   "outputs": [
    {
     "data": {
      "text/html": [
       "<div>\n",
       "<style scoped>\n",
       "    .dataframe tbody tr th:only-of-type {\n",
       "        vertical-align: middle;\n",
       "    }\n",
       "\n",
       "    .dataframe tbody tr th {\n",
       "        vertical-align: top;\n",
       "    }\n",
       "\n",
       "    .dataframe thead th {\n",
       "        text-align: right;\n",
       "    }\n",
       "</style>\n",
       "<table border=\"1\" class=\"dataframe\">\n",
       "  <thead>\n",
       "    <tr style=\"text-align: right;\">\n",
       "      <th></th>\n",
       "      <th>Id</th>\n",
       "      <th>MSSubClass</th>\n",
       "      <th>MSZoning</th>\n",
       "      <th>LotFrontage</th>\n",
       "      <th>LotArea</th>\n",
       "      <th>Street</th>\n",
       "      <th>Alley</th>\n",
       "      <th>LotShape</th>\n",
       "      <th>LandContour</th>\n",
       "      <th>Utilities</th>\n",
       "      <th>...</th>\n",
       "      <th>ScreenPorch</th>\n",
       "      <th>PoolArea</th>\n",
       "      <th>PoolQC</th>\n",
       "      <th>Fence</th>\n",
       "      <th>MiscFeature</th>\n",
       "      <th>MiscVal</th>\n",
       "      <th>MoSold</th>\n",
       "      <th>YrSold</th>\n",
       "      <th>SaleType</th>\n",
       "      <th>SaleCondition</th>\n",
       "    </tr>\n",
       "  </thead>\n",
       "  <tbody>\n",
       "    <tr>\n",
       "      <th>0</th>\n",
       "      <td>1461</td>\n",
       "      <td>20</td>\n",
       "      <td>RH</td>\n",
       "      <td>80.0</td>\n",
       "      <td>11622</td>\n",
       "      <td>Pave</td>\n",
       "      <td>NaN</td>\n",
       "      <td>Reg</td>\n",
       "      <td>Lvl</td>\n",
       "      <td>AllPub</td>\n",
       "      <td>...</td>\n",
       "      <td>120</td>\n",
       "      <td>0</td>\n",
       "      <td>NaN</td>\n",
       "      <td>MnPrv</td>\n",
       "      <td>NaN</td>\n",
       "      <td>0</td>\n",
       "      <td>6</td>\n",
       "      <td>2010</td>\n",
       "      <td>WD</td>\n",
       "      <td>Normal</td>\n",
       "    </tr>\n",
       "    <tr>\n",
       "      <th>1</th>\n",
       "      <td>1462</td>\n",
       "      <td>20</td>\n",
       "      <td>RL</td>\n",
       "      <td>81.0</td>\n",
       "      <td>14267</td>\n",
       "      <td>Pave</td>\n",
       "      <td>NaN</td>\n",
       "      <td>IR1</td>\n",
       "      <td>Lvl</td>\n",
       "      <td>AllPub</td>\n",
       "      <td>...</td>\n",
       "      <td>0</td>\n",
       "      <td>0</td>\n",
       "      <td>NaN</td>\n",
       "      <td>NaN</td>\n",
       "      <td>Gar2</td>\n",
       "      <td>12500</td>\n",
       "      <td>6</td>\n",
       "      <td>2010</td>\n",
       "      <td>WD</td>\n",
       "      <td>Normal</td>\n",
       "    </tr>\n",
       "    <tr>\n",
       "      <th>2</th>\n",
       "      <td>1463</td>\n",
       "      <td>60</td>\n",
       "      <td>RL</td>\n",
       "      <td>74.0</td>\n",
       "      <td>13830</td>\n",
       "      <td>Pave</td>\n",
       "      <td>NaN</td>\n",
       "      <td>IR1</td>\n",
       "      <td>Lvl</td>\n",
       "      <td>AllPub</td>\n",
       "      <td>...</td>\n",
       "      <td>0</td>\n",
       "      <td>0</td>\n",
       "      <td>NaN</td>\n",
       "      <td>MnPrv</td>\n",
       "      <td>NaN</td>\n",
       "      <td>0</td>\n",
       "      <td>3</td>\n",
       "      <td>2010</td>\n",
       "      <td>WD</td>\n",
       "      <td>Normal</td>\n",
       "    </tr>\n",
       "    <tr>\n",
       "      <th>3</th>\n",
       "      <td>1464</td>\n",
       "      <td>60</td>\n",
       "      <td>RL</td>\n",
       "      <td>78.0</td>\n",
       "      <td>9978</td>\n",
       "      <td>Pave</td>\n",
       "      <td>NaN</td>\n",
       "      <td>IR1</td>\n",
       "      <td>Lvl</td>\n",
       "      <td>AllPub</td>\n",
       "      <td>...</td>\n",
       "      <td>0</td>\n",
       "      <td>0</td>\n",
       "      <td>NaN</td>\n",
       "      <td>NaN</td>\n",
       "      <td>NaN</td>\n",
       "      <td>0</td>\n",
       "      <td>6</td>\n",
       "      <td>2010</td>\n",
       "      <td>WD</td>\n",
       "      <td>Normal</td>\n",
       "    </tr>\n",
       "    <tr>\n",
       "      <th>4</th>\n",
       "      <td>1465</td>\n",
       "      <td>120</td>\n",
       "      <td>RL</td>\n",
       "      <td>43.0</td>\n",
       "      <td>5005</td>\n",
       "      <td>Pave</td>\n",
       "      <td>NaN</td>\n",
       "      <td>IR1</td>\n",
       "      <td>HLS</td>\n",
       "      <td>AllPub</td>\n",
       "      <td>...</td>\n",
       "      <td>144</td>\n",
       "      <td>0</td>\n",
       "      <td>NaN</td>\n",
       "      <td>NaN</td>\n",
       "      <td>NaN</td>\n",
       "      <td>0</td>\n",
       "      <td>1</td>\n",
       "      <td>2010</td>\n",
       "      <td>WD</td>\n",
       "      <td>Normal</td>\n",
       "    </tr>\n",
       "  </tbody>\n",
       "</table>\n",
       "<p>5 rows × 80 columns</p>\n",
       "</div>"
      ],
      "text/plain": [
       "     Id  MSSubClass MSZoning  LotFrontage  LotArea Street Alley LotShape  \\\n",
       "0  1461          20       RH         80.0    11622   Pave   NaN      Reg   \n",
       "1  1462          20       RL         81.0    14267   Pave   NaN      IR1   \n",
       "2  1463          60       RL         74.0    13830   Pave   NaN      IR1   \n",
       "3  1464          60       RL         78.0     9978   Pave   NaN      IR1   \n",
       "4  1465         120       RL         43.0     5005   Pave   NaN      IR1   \n",
       "\n",
       "  LandContour Utilities      ...       ScreenPorch PoolArea PoolQC  Fence  \\\n",
       "0         Lvl    AllPub      ...               120        0    NaN  MnPrv   \n",
       "1         Lvl    AllPub      ...                 0        0    NaN    NaN   \n",
       "2         Lvl    AllPub      ...                 0        0    NaN  MnPrv   \n",
       "3         Lvl    AllPub      ...                 0        0    NaN    NaN   \n",
       "4         HLS    AllPub      ...               144        0    NaN    NaN   \n",
       "\n",
       "  MiscFeature MiscVal MoSold  YrSold  SaleType  SaleCondition  \n",
       "0         NaN       0      6    2010        WD         Normal  \n",
       "1        Gar2   12500      6    2010        WD         Normal  \n",
       "2         NaN       0      3    2010        WD         Normal  \n",
       "3         NaN       0      6    2010        WD         Normal  \n",
       "4         NaN       0      1    2010        WD         Normal  \n",
       "\n",
       "[5 rows x 80 columns]"
      ]
     },
     "execution_count": 160,
     "metadata": {},
     "output_type": "execute_result"
    }
   ],
   "source": [
    "test_data.head()"
   ]
  },
  {
   "cell_type": "code",
   "execution_count": 161,
   "metadata": {},
   "outputs": [
    {
     "data": {
      "text/plain": [
       "<matplotlib.axes._subplots.AxesSubplot at 0x24e67b394a8>"
      ]
     },
     "execution_count": 161,
     "metadata": {},
     "output_type": "execute_result"
    },
    {
     "data": {
      "image/png": "[encoded data removed]",
      "text/plain": [
       "<Figure size 432x288 with 2 Axes>"
      ]
     },
     "metadata": {},
     "output_type": "display_data"
    }
   ],
   "source": [
    "sns.heatmap(test_data.isnull(),cmap='viridis',yticklabels=False)"
   ]
  },
  {
   "cell_type": "code",
   "execution_count": 162,
   "metadata": {},
   "outputs": [
    {
     "name": "stdout",
     "output_type": "stream",
     "text": [
      "      OverallQual  YearBuilt  YearRemodAdd  TotalBsmtSF  1stFlrSF  GrLivArea  \\\n",
      "0               5       1961          1961        882.0       896        896   \n",
      "1               6       1958          1958       1329.0      1329       1329   \n",
      "2               5       1997          1998        928.0       928       1629   \n",
      "3               6       1998          1998        926.0       926       1604   \n",
      "4               8       1992          1992       1280.0      1280       1280   \n",
      "5               6       1993          1994        763.0       763       1655   \n",
      "6               6       1992          2007       1168.0      1187       1187   \n",
      "7               6       1998          1998        789.0       789       1465   \n",
      "8               7       1990          1990       1300.0      1341       1341   \n",
      "9               4       1970          1970        882.0       882        882   \n",
      "10              7       1999          1999       1405.0      1337       1337   \n",
      "11              6       1971          1971        483.0       483        987   \n",
      "12              5       1971          1971        525.0       525       1092   \n",
      "13              6       1975          1975        855.0       855       1456   \n",
      "14              7       1975          1975        836.0       836        836   \n",
      "15              9       2009          2010       1590.0      1627       2334   \n",
      "16              8       2009          2010       1544.0      1544       1544   \n",
      "17              9       2005          2005       1698.0      1698       1698   \n",
      "18              8       2005          2006       1822.0      1822       1822   \n",
      "19              9       2003          2004       2846.0      2696       2696   \n",
      "20              8       2002          2002       1671.0      1687       2250   \n",
      "21              8       2006          2006       1370.0      1370       1370   \n",
      "22              6       2005          2005       1324.0      1324       1324   \n",
      "23              7       2006          2006       1145.0      1145       1145   \n",
      "24              7       2004          2004        384.0       744       1374   \n",
      "25              7       2004          2004        847.0       847       1733   \n",
      "26              8       1998          1998       1629.0      1645       2475   \n",
      "27              8       2005          2006       1595.0      1595       1595   \n",
      "28              7       2009          2010       1218.0      1218       1218   \n",
      "29              6       2005          2005       1468.0      1468       1468   \n",
      "...           ...        ...           ...          ...       ...        ...   \n",
      "1429            4       1925          1950        641.0       641        641   \n",
      "1430            6       1957          1957        967.0       967       1638   \n",
      "1431            3       1945          1950          0.0       729        729   \n",
      "1432            5       1951          1951        660.0      1060       1396   \n",
      "1433            3       1916          1950        216.0       576        936   \n",
      "1434            8       2005          2006       1573.0      1778       1778   \n",
      "1435            8       2004          2005       1594.0      1646       1646   \n",
      "1436            6       1979          1979       1625.0      1625       1625   \n",
      "1437            6       1978          1978       1664.0      1664       1664   \n",
      "1438            8       2001          2001       1491.0      1491       1491   \n",
      "1439            6       1975          1975       1128.0      1210       1210   \n",
      "1440            6       1958          1958       1632.0      1650       1650   \n",
      "1441            6       2000          2000       1381.0      1403       1403   \n",
      "1442            8       2005          2006       1728.0      1960       1960   \n",
      "1443            9       2005          2006       1838.0      1838       1838   \n",
      "1444            1       1951          1951          0.0      1600       1600   \n",
      "1445            7       1997          1997       1288.0      1368       1368   \n",
      "1446            5       1977          1977        264.0       616       1304   \n",
      "1447            5       1968          2003        864.0       874        874   \n",
      "1448            5       1970          1970       1652.0      1652       1652   \n",
      "1449            4       1970          1970        630.0       630        630   \n",
      "1450            4       1972          1972        546.0       546       1092   \n",
      "1451            5       1969          1979       1104.0      1360       1360   \n",
      "1452            4       1970          1970        546.0       546       1092   \n",
      "1453            4       1970          1970        546.0       546       1092   \n",
      "1454            4       1970          1970        546.0       546       1092   \n",
      "1455            4       1970          1970        546.0       546       1092   \n",
      "1456            5       1960          1996       1224.0      1224       1224   \n",
      "1457            5       1992          1992        912.0       970        970   \n",
      "1458            7       1993          1994        996.0       996       2000   \n",
      "\n",
      "      FullBath  TotRmsAbvGrd  GarageCars  GarageArea  \n",
      "0            1             5         1.0       730.0  \n",
      "1            1             6         1.0       312.0  \n",
      "2            2             6         2.0       482.0  \n",
      "3            2             7         2.0       470.0  \n",
      "4            2             5         2.0       506.0  \n",
      "5            2             7         2.0       440.0  \n",
      "6            2             6         2.0       420.0  \n",
      "7            2             7         2.0       393.0  \n",
      "8            1             5         2.0       506.0  \n",
      "9            1             4         2.0       525.0  \n",
      "10           2             5         2.0       511.0  \n",
      "11           1             5         1.0       264.0  \n",
      "12           1             6         1.0       320.0  \n",
      "13           2             6         2.0       440.0  \n",
      "14           1             4         1.0       308.0  \n",
      "15           2            10         3.0       751.0  \n",
      "16           2             7         3.0       868.0  \n",
      "17           2             7         3.0       730.0  \n",
      "18           2             8         3.0       678.0  \n",
      "19           2            10         3.0       958.0  \n",
      "20           2             7         3.0       756.0  \n",
      "21           2             6         2.0       484.0  \n",
      "22           2             6         2.0       430.0  \n",
      "23           2             6         2.0       437.0  \n",
      "24           2             7         2.0       400.0  \n",
      "25           2             7         2.0       433.0  \n",
      "26           2             7         3.0       962.0  \n",
      "27           2             6         3.0       880.0  \n",
      "28           2             4         2.0       676.0  \n",
      "29           2             6         2.0       528.0  \n",
      "...        ...           ...         ...         ...  \n",
      "1429         1             4         1.0       272.0  \n",
      "1430         2             6         1.0       384.0  \n",
      "1431         1             5         0.0         0.0  \n",
      "1432         2             8         0.0         0.0  \n",
      "1433         1             6         0.0         0.0  \n",
      "1434         2             5         2.0       495.0  \n",
      "1435         2             5         2.0       525.0  \n",
      "1436         2             6         2.0       576.0  \n",
      "1437         2            10         2.0       616.0  \n",
      "1438         2             7         2.0       490.0  \n",
      "1439         2             6         2.0       528.0  \n",
      "1440         1             6         2.0       518.0  \n",
      "1441         2             5         2.0       470.0  \n",
      "1442         2             8         3.0       714.0  \n",
      "1443         2             9         3.0       682.0  \n",
      "1444         1             6         1.0       270.0  \n",
      "1445         2             8         4.0       784.0  \n",
      "1446         1             5         1.0       336.0  \n",
      "1447         1             5         1.0       288.0  \n",
      "1448         2             8         3.0       928.0  \n",
      "1449         1             3         0.0         0.0  \n",
      "1450         1             5         1.0       253.0  \n",
      "1451         1             8         1.0       336.0  \n",
      "1452         1             5         1.0       286.0  \n",
      "1453         1             5         0.0         0.0  \n",
      "1454         1             5         0.0         0.0  \n",
      "1455         1             6         1.0       286.0  \n",
      "1456         1             7         2.0       576.0  \n",
      "1457         1             6         0.0         0.0  \n",
      "1458         2             9         3.0       650.0  \n",
      "\n",
      "[1459 rows x 10 columns]\n"
     ]
    }
   ],
   "source": [
    "X_test=test_data[['OverallQual','YearBuilt','YearRemodAdd','TotalBsmtSF','1stFlrSF','GrLivArea','FullBath','TotRmsAbvGrd','GarageCars','GarageArea']]\n",
    "print(X_test)"
   ]
  },
  {
   "cell_type": "code",
   "execution_count": 163,
   "metadata": {},
   "outputs": [
    {
     "data": {
      "text/plain": [
       "<matplotlib.axes._subplots.AxesSubplot at 0x24e67abfdd8>"
      ]
     },
     "execution_count": 163,
     "metadata": {},
     "output_type": "execute_result"
    },
    {
     "data": {
      "image/png": "[encoded data removed]",
      "text/plain": [
       "<Figure size 432x288 with 2 Axes>"
      ]
     },
     "metadata": {},
     "output_type": "display_data"
    }
   ],
   "source": [
    "sns.heatmap(X_test.isnull(),cmap='viridis',yticklabels=False)"
   ]
  },
  {
   "cell_type": "code",
   "execution_count": 164,
   "metadata": {},
   "outputs": [
    {
     "name": "stderr",
     "output_type": "stream",
     "text": [
      "C:\\Users\\arvind\\Anaconda3\\lib\\site-packages\\pandas\\core\\frame.py:3787: SettingWithCopyWarning: \n",
      "A value is trying to be set on a copy of a slice from a DataFrame\n",
      "\n",
      "See the caveats in the documentation: http://pandas.pydata.org/pandas-docs/stable/indexing.html#indexing-view-versus-copy\n",
      "  downcast=downcast, **kwargs)\n"
     ]
    }
   ],
   "source": [
    "X_test.fillna(value=0,axis=1,inplace=True)"
   ]
  },
  {
   "cell_type": "code",
   "execution_count": 165,
   "metadata": {},
   "outputs": [
    {
     "data": {
      "text/plain": [
       "OverallQual     False\n",
       "YearBuilt       False\n",
       "YearRemodAdd    False\n",
       "TotalBsmtSF     False\n",
       "1stFlrSF        False\n",
       "GrLivArea       False\n",
       "FullBath        False\n",
       "TotRmsAbvGrd    False\n",
       "GarageCars      False\n",
       "GarageArea      False\n",
       "dtype: bool"
      ]
     },
     "execution_count": 165,
     "metadata": {},
     "output_type": "execute_result"
    }
   ],
   "source": [
    "X_test.isnull().any()"
   ]
  },
  {
   "cell_type": "code",
   "execution_count": 166,
   "metadata": {},
   "outputs": [],
   "source": [
    "pred1=model.predict(X_test)"
   ]
  },
  {
   "cell_type": "code",
   "execution_count": 167,
   "metadata": {},
   "outputs": [
    {
     "name": "stdout",
     "output_type": "stream",
     "text": [
      "1459\n"
     ]
    }
   ],
   "source": [
    "print(len(pred1))"
   ]
  },
  {
   "cell_type": "code",
   "execution_count": 168,
   "metadata": {},
   "outputs": [],
   "source": [
    "dataframe=pd.DataFrame(test_data['Id'],columns=['Id'])"
   ]
  },
  {
   "cell_type": "code",
   "execution_count": 169,
   "metadata": {},
   "outputs": [
    {
     "name": "stdout",
     "output_type": "stream",
     "text": [
      "        Id\n",
      "0     1461\n",
      "1     1462\n",
      "2     1463\n",
      "3     1464\n",
      "4     1465\n",
      "5     1466\n",
      "6     1467\n",
      "7     1468\n",
      "8     1469\n",
      "9     1470\n",
      "10    1471\n",
      "11    1472\n",
      "12    1473\n",
      "13    1474\n",
      "14    1475\n",
      "15    1476\n",
      "16    1477\n",
      "17    1478\n",
      "18    1479\n",
      "19    1480\n",
      "20    1481\n",
      "21    1482\n",
      "22    1483\n",
      "23    1484\n",
      "24    1485\n",
      "25    1486\n",
      "26    1487\n",
      "27    1488\n",
      "28    1489\n",
      "29    1490\n",
      "...    ...\n",
      "1429  2890\n",
      "1430  2891\n",
      "1431  2892\n",
      "1432  2893\n",
      "1433  2894\n",
      "1434  2895\n",
      "1435  2896\n",
      "1436  2897\n",
      "1437  2898\n",
      "1438  2899\n",
      "1439  2900\n",
      "1440  2901\n",
      "1441  2902\n",
      "1442  2903\n",
      "1443  2904\n",
      "1444  2905\n",
      "1445  2906\n",
      "1446  2907\n",
      "1447  2908\n",
      "1448  2909\n",
      "1449  2910\n",
      "1450  2911\n",
      "1451  2912\n",
      "1452  2913\n",
      "1453  2914\n",
      "1454  2915\n",
      "1455  2916\n",
      "1456  2917\n",
      "1457  2918\n",
      "1458  2919\n",
      "\n",
      "[1459 rows x 1 columns]\n"
     ]
    }
   ],
   "source": [
    "print(dataframe)"
   ]
  },
  {
   "cell_type": "code",
   "execution_count": 170,
   "metadata": {},
   "outputs": [],
   "source": [
    "dataframe['SalePrice']=pred1"
   ]
  },
  {
   "cell_type": "code",
   "execution_count": 171,
   "metadata": {},
   "outputs": [
    {
     "name": "stdout",
     "output_type": "stream",
     "text": [
      "        Id      SalePrice\n",
      "0     1461  128258.359375\n",
      "1     1462  142494.281250\n",
      "2     1463  162735.781250\n",
      "3     1464  180935.359375\n",
      "4     1465  209864.187500\n",
      "5     1466  177223.500000\n",
      "6     1467  167192.515625\n",
      "7     1468  171831.593750\n",
      "8     1469  182367.906250\n",
      "9     1470  115883.828125\n",
      "10    1471  191206.703125\n",
      "11    1472   93617.765625\n",
      "12    1473   97288.515625\n",
      "13    1474  157191.984375\n",
      "14    1475  139442.031250\n",
      "15    1476  392744.375000\n",
      "16    1477  252406.078125\n",
      "17    1478  328559.343750\n",
      "18    1479  295867.000000\n",
      "19    1480  501039.312500\n",
      "20    1481  348868.343750\n",
      "21    1482  215460.500000\n",
      "22    1483  182872.250000\n",
      "23    1484  168573.000000\n",
      "24    1485  166534.656250\n",
      "25    1486  199259.812500\n",
      "26    1487  361148.312500\n",
      "27    1488  259781.625000\n",
      "28    1489  217485.250000\n",
      "29    1490  187819.390625\n",
      "...    ...            ...\n",
      "1429  2890   58203.941406\n",
      "1430  2891  136950.796875\n",
      "1431  2892   57579.394531\n",
      "1432  2893  105034.742188\n",
      "1433  2894   47918.921875\n",
      "1434  2895  301909.718750\n",
      "1435  2896  277338.562500\n",
      "1436  2897  188200.015625\n",
      "1437  2898  179940.625000\n",
      "1438  2899  239517.531250\n",
      "1439  2900  157338.500000\n",
      "1440  2901  174263.953125\n",
      "1441  2902  179900.156250\n",
      "1442  2903  350475.343750\n",
      "1443  2904  321915.187500\n",
      "1444  2905  122789.523438\n",
      "1445  2906  197693.921875\n",
      "1446  2907  108282.796875\n",
      "1447  2908  130342.289062\n",
      "1448  2909  152947.828125\n",
      "1449  2910   79116.859375\n",
      "1450  2911   80398.898438\n",
      "1451  2912  145457.656250\n",
      "1452  2913   83143.390625\n",
      "1453  2914   69943.609375\n",
      "1454  2915   69943.609375\n",
      "1455  2916   83143.390625\n",
      "1456  2917  152521.187500\n",
      "1457  2918  108148.773438\n",
      "1458  2919  230072.796875\n",
      "\n",
      "[1459 rows x 2 columns]\n"
     ]
    }
   ],
   "source": [
    "print(dataframe)"
   ]
  },
  {
   "cell_type": "code",
   "execution_count": 172,
   "metadata": {},
   "outputs": [],
   "source": [
    "#NOW CONVERTING DATAFRAME TO CSV FILE AND PLACING IT IN DESKTOP"
   ]
  },
  {
   "cell_type": "code",
   "execution_count": 173,
   "metadata": {},
   "outputs": [],
   "source": [
    "path='C:\\\\Users\\\\arvind\\\\Desktop\\\\'"
   ]
  },
  {
   "cell_type": "code",
   "execution_count": 174,
   "metadata": {},
   "outputs": [],
   "source": [
    "import os\n",
    "dataframe.to_csv(os.path.join(path,r'sample_submission.csv'),index=False)"
   ]
  },
  {
   "cell_type": "code",
   "execution_count": null,
   "metadata": {},
   "outputs": [],
   "source": []
  },
  {
   "cell_type": "code",
   "execution_count": null,
   "metadata": {},
   "outputs": [],
   "source": []
  },
  {
   "cell_type": "code",
   "execution_count": null,
   "metadata": {},
   "outputs": [],
   "source": []
  }
 ],
 "metadata": {
  "kernelspec": {
   "display_name": "Python 3",
   "language": "python",
   "name": "python3"
  },
  "language_info": {
   "codemirror_mode": {
    "name": "ipython",
    "version": 3
   },
   "file_extension": ".py",
   "mimetype": "text/x-python",
   "name": "python",
   "nbconvert_exporter": "python",
   "pygments_lexer": "ipython3",
   "version": "3.6.5"
  }
 },
 "nbformat": 4,
 "nbformat_minor": 2
}
